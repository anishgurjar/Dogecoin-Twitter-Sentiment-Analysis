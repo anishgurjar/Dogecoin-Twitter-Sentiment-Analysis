{
 "cells": [
  {
   "cell_type": "markdown",
   "metadata": {},
   "source": [
    "### Anish Gurjar"
   ]
  },
  {
   "cell_type": "markdown",
   "metadata": {},
   "source": [
    "### Does the overall sentiment polarity of tweets, a particular user’s tweets, and volume of Twitter tweets on Dogecoin over a given time period affect the opening and closing prices of Dogecoin during that period?"
   ]
  },
  {
   "cell_type": "markdown",
   "metadata": {},
   "source": [
    "## Introduction\n",
    "\n",
    "**Dogecoin** is a cryptocurrency created by software engineers Billy Markus and Jackson Palmer, who decided to create a payment system as a \"joke\", making fun of the wild speculation in cryptocurrencies at the time. People have been heavily investing in Dogecoin since then and a recent tweet by Elon Musk on 7th May 2021 was said to be the biggest influencing factory of spiking the prices of dogecoin by over 1000%. (Reimann)\n",
    "\n",
    "This incident begs the question as to whether the overall sentiment polarity of tweets, a particular user’s tweets, and volume of Twitter tweets on Dogecoin over a given time period affect the opening and closing prices of Dogecoin during that period?"
   ]
  },
  {
   "cell_type": "markdown",
   "metadata": {},
   "source": [
    "## Why is it Important?"
   ]
  },
  {
   "cell_type": "markdown",
   "metadata": {},
   "source": [
    "Dogecoin is a meme cryptocurrency whose price is know to be manipulated by Elon Musk. Countless experienced and inexperienced investors, including us (Anish and Kahf), have invested in Dogecoin. When dealing with such risky investment sources that are speculated to be dependent on various twitter factors (listed below), we should know whether twitter is a good indicator of dogecoin prices, and if so how much?"
   ]
  },
  {
   "cell_type": "markdown",
   "metadata": {},
   "source": [
    "## Data\n",
    "\n",
    "### 1. Historical Dogecoin Price Data- Daily:\n",
    "**Purpose:** We are interested in this data so we can get the opening and closing prices of Dogecoin on a particular day over a period of 5 years. \n",
    "<br>\n",
    "**Source:** https://www.alphavantage.co/documentation/ (exact data needs the sepecific url which extracted in cells later)\n",
    "<br>\n",
    "**Format:** JSON\n",
    "<br>\n",
    "**Fields:** Date, Open, Close, High, Low, Volume\n",
    "\n",
    "### 2. Historical Dogecoin Price Data- Intraday (Hourly):\n",
    "**Purpose:** We are interested in this data so we can get the opening and closing prices of Dogecoin on a particular day over a period of 5 years. \n",
    "<br>\n",
    "**Source:** https://www.alphavantage.co/documentation/\n",
    "<br>\n",
    "**Format:** JSON\n",
    "<br>\n",
    "**Fields:** Date, Time, Open, Close, High, Low, Volume\n",
    "\n",
    "\n",
    "### 3. Tweets Scraped From Tweepy API:\n",
    "**Purpose:** We are interested in this data for two reasons:<br>\n",
    "We can scrape the amount of tweets posted in a single day and check their polarity<br>\n",
    "We will be extracting the top 3000 tweets of 100 most influential people in the cryptocurrency market to use analysis mentioned below. <br>\n",
    "**Source:** https://docs.tweepy.org/en/stable/  <br>\n",
    "**Format:** CSV<br>\n",
    "**Fields:** Timestamp, Tweettext\n",
    "\n",
    "### 4. The top 100 most influential people in cryptocurrency market (will be scraped):\n",
    "**Purpose:** We want to scrape the names of top 100 people in the cryptocurrency market so that we can use their names later to extract their tweets <br>\n",
    "**Source:** https://cryptoweekly.co/100/ <br>\n",
    "**Format:** XML <br>\n",
    "**Fields:** Name, Filename, Twitter Handle\n"
   ]
  },
  {
   "cell_type": "markdown",
   "metadata": {},
   "source": [
    "## Approach\n",
    "We will be analyzing the prompt in 3 subparts: \n",
    "1. **Is Daily and Weekly overall sentiment polarity of tweets about Dogecoin consistent with the price movements of Dogecoin?**: <br>Here we see how the combined sentiment effect of each tweet in the last 7 days is correlated with the average price difference of Dogecoin. \n",
    "\n",
    "2. **Does an individual user’s tweet influence the Dogecoin Prices and if so which users?** <br>Here we will see who the top influencers in cryptocurrencies are and whether you should listen to their advice or not on dogecoin. \n",
    "\n",
    "3. **Does the volume of tweets on a particular day about Dogecoin affect the price movements of Dogecoin?** <br>Here we will analyze whether the number of tweets on a sample time of a data affects the price or if it is correlated or not? We will see if it is correlated or is a cause of it or not too. "
   ]
  },
  {
   "cell_type": "markdown",
   "metadata": {},
   "source": [
    "### Importing Required Libraries:"
   ]
  },
  {
   "cell_type": "code",
   "execution_count": null,
   "metadata": {},
   "outputs": [],
   "source": [
    "import pandas as pd # library for data analysis\n",
    "import numpy as np #used to get standard deviation and converting to numpy array for plotting\n",
    "import matplotlib.pyplot as plt #plotting library\n",
    "import requests # library to handle requests\n",
    "from bs4 import BeautifulSoup # library to parse HTML documents\n",
    "import re # library for using regular expressions\n",
    "import tweepy # library for getting access and scraping tweets from online\n",
    "import csv # library for creating live csv files\n",
    "import time # library for sleep time\n",
    "from datetime import date, datetime, timedelta #library to manage dates\n",
    "import textblob #Library used to find sentiment analysis\n",
    "import requests #Calling the API JSON data\n",
    "from csv import writer #updating our results to the main csv (used for collection and mainining data beyond 7 days)\n",
    "from lxml import etree #xml library\n",
    "import os #for setting file location"
   ]
  },
  {
   "cell_type": "markdown",
   "metadata": {},
   "source": [
    "## 1. Is Daily and Weekly overall sentiment polarity of tweets about Dogecoin consistent with the price movements of Dogecoin?\n",
    "\n",
    "To answer the prompt we will be doing the following things:\n",
    "\n",
    "**1.1 Setting the Dates:** <br>Getting all the start dates and end dates with one day interval for the last seven days in a LoL format. For example, ['2021-12-11, 2021-12-12'] and doing this for past seven days (From the present days).\n",
    "\n",
    "**1.2 Setting up connection to Twitter API:** <br> Here, we will set our connection details. We have an elevated access for which we had to fill an application. We have a certain rate limit for printing about 3000 tweets until the rate limit access.\n",
    "\n",
    "**1.3 Getting the respective list of sentiment polarity of tweets per day:** <br> Here, we get the sentiment for each tweet per day. \n",
    "\n",
    "**1.4 Bringing these results to a seperate dataframe:** <br> Here, we combine everything to a seperate dataframe.\n",
    "\n",
    "**1.5 Correlating and checking our results with the actual Dogecoin Prices from Alphaadvantage API:** <br> Here, we compare if the twitter sentiment and prices are correlated or not. \n",
    "\n",
    "**1.6  Finding How Accurate Our Results Were:** <br> Here, we calculate how accurate in percentage was the twitter sentiment with actaul price movements. \n",
    "\n",
    "**1.7 Conclusion:** <br> Here, we plot our conclusions in a bar graph and a line graph. "
   ]
  },
  {
   "cell_type": "markdown",
   "metadata": {},
   "source": [
    "### 1.1 Setting the Dates:\n",
    "\n",
    "**What it does:** The cell below gives us a list of dates that our Twitter and Dogecoin api both have acces to. \n",
    "\n",
    "**How it does & Problem Solving:** The twitter API constantly requires a start and end date. To make the processs simplier, using the datetime library, we create a Dates() function that automatically gives us a set of present date and the date before in a list. This is then repeated for the seven days and returned as a list of list."
   ]
  },
  {
   "cell_type": "code",
   "execution_count": null,
   "metadata": {},
   "outputs": [],
   "source": [
    "def Dates():\n",
    "    \n",
    "    \"\"\"\n",
    "    This function runs a loop over the past 7 days from the present avaialbe date that is present in both the Dogecoin API and\n",
    "    the twitter API has access too.\n",
    "    Input: None\n",
    "    Output: Dates- A List of List which contains start and end date in the innermost list\n",
    "    \"\"\"\n",
    "    \n",
    "    Dates = [] #empty list\n",
    "    i = 7\n",
    "    while(i>0):\n",
    "        end = str(date.today() - timedelta(i)) #We reduce a day for every iteration so eventu\n",
    "        start = str(date.today() - timedelta(i) - timedelta(1))\n",
    "    \n",
    "        Dates.append([start, end])\n",
    "        i = i - 1\n",
    "\n",
    "    return(Dates)\n",
    "\n",
    "Dates = Dates()\n",
    "#We also declare today and yesterday's date as global variable which will be used constantly in the code below\n",
    "today = date.today()\n",
    "yesterday = date.today() - timedelta(1)"
   ]
  },
  {
   "cell_type": "markdown",
   "metadata": {},
   "source": [
    "### 1.2 Setting up connection to Twitter API\n",
    "**Note:** The API connection details are personal to the project owner and are provided for testing and demonstration purposes.\n",
    "To get the API connection details, create an account of **developer.twitter.com**\n",
    "\n",
    "**Also Note:** We are currently using an Elevated Access from Twitter which we had to apply specially. The Elevated Access, though better than the basic, still doesnt have enough Rate Limit to capture enough data. \n",
    "\n",
    "**Logisitical Note:** The twitter API gives us a maximum of 2500 tweets at any instance. If that limit is exceeded, the API requires a 15 minute wait time before extracting another batch of tweets. \n",
    "\n",
    "Therefore **for demonstration purposes**, we will be analyzing 200 random tweets per day for the last 7 days from present. \n",
    "\n",
    "However, **we have written a script at the end of Part 1 that we will run once everyday that adds 2000 tweets per day** to the dataframe which we are storing locally in a csv file. Once we have expanded our dataset, the results will be more accurate **but that will take data collection over a few days.**\n",
    "\n",
    "The cell below consists of the details we got from our Twitter Developer Portal for access to the tweets. We would strongly suggest to continue using this as these have elevated access. "
   ]
  },
  {
   "cell_type": "code",
   "execution_count": null,
   "metadata": {},
   "outputs": [],
   "source": [
    "#Connection Information:\n",
    "api_key = 'HFHatZp3ZxmclYMa8O9fRukgE' # api key as given by twitter\n",
    "api_key_secret = '7GK4TC9NHwCA8YrJPmXNPUoQdhVUhBlsBem5EFn0ewZuTyVZ0E' # api secret key as given by twitter\n",
    "access_token = '1462190654432419840-4mwJrvpUB6X0NtiUscgakKVmLtXKfU' # access token as given by twitter\n",
    "access_token_secret = 'xumXYfy4vreKVLrAZicOonDH9Sefaov1o51WIukaRQu8H' #acces secret token as given by twitter\n",
    "\n",
    "authenticator = tweepy.OAuthHandler(api_key, api_key_secret)\n",
    "authenticator.set_access_token(access_token, access_token_secret)\n",
    "api = tweepy.API(authenticator, wait_on_rate_limit = True)\n",
    "\n",
    "crypto_currency = 'Dogecoin'"
   ]
  },
  {
   "cell_type": "markdown",
   "metadata": {},
   "source": [
    "### 1.3 Getting the respective list of sentiment polarity of tweets per day\n",
    "\n",
    "**What it does:** We go through each tweet in the dates we originally extracted and check the sentiment of each tweet in context with Dogecoin. After collecting all data, we convert it into a dataframe with the startdate, enddate and sentiment as the variables \n",
    "\n",
    "**How it does & Problem Solving:** This is done using a library called textblob. While we do use a preexisitng library, we search through tweets of specific days that we calculated in the previous cell manually. While doing that, we also make sure to filter only the text of the tweet and remove any uneccesary information using regular expressions. We repeat the above process for every single day and for each day, we use the map function to calculate the polarity and result. Once we are done calculating the both the values for that particular day, we compare them and check if the overall sentiment for that day was positive or negative. Finally, we store all of this information in a pandas dataframe and print it for the user to see. "
   ]
  },
  {
   "cell_type": "code",
   "execution_count": 21,
   "metadata": {},
   "outputs": [
    {
     "name": "stdout",
     "output_type": "stream",
     "text": [
      "[['positive', 'negative', 'negative', 'negative', 'negative', 'negative', 'negative'], 42, 58]\n"
     ]
    }
   ],
   "source": [
    "def sentiment(Dates):\n",
    "    \n",
    "    \"\"\"\n",
    "    This function creates a list and appends each day's overall sentiment to the list. It checks the overall sentiment by\n",
    "    checking if majority tweets are positive or negative.\n",
    "    Input: List of List of start and end dates (Here, last 7 days from present)\n",
    "    Output: overallsentiment list\n",
    "    \"\"\"\n",
    "    \n",
    "    overallsentiment = [] \n",
    "    \n",
    "    for i in range(len(Dates)):\n",
    "        \n",
    "        start = str(Dates[i][0])\n",
    "        end = str(Dates[i][1])        \n",
    "        \n",
    "        #Searching #Dogecoin Data\n",
    "        search = \"#Dogecoin since:\" + start + \" until:\" + end #Query String that is passed to the API Cursor which then scraps data.\n",
    "        tweet_cursor = tweepy.Cursor(api.search_tweets, q=search, lang='en', tweet_mode ='extended').items(100) #Here, 200 is the number of tweets we will get\n",
    "        tweets = [tweet.full_text for tweet in tweet_cursor] #We create a list and append all the tweets in the bigger list\n",
    "        tweets_df = pd.DataFrame(tweets, columns = ['Tweets']) #We then create a dataframe with the tweets column\n",
    "        \n",
    "        #Cleaning up the Data\n",
    "        for _, row in tweets_df.iterrows():\n",
    "            row[\"Tweets\"] = re.sub('http\\S+', '', row['Tweets']) #Removing all the url headers\n",
    "            row[\"Tweets\"] = re.sub('#\\S+', '', row['Tweets']) #Removing the #s \n",
    "            row[\"Tweets\"] = re.sub('@\\S+', '', row['Tweets']) #Removing all the @\n",
    "            row[\"Tweets\"] = re.sub('\\\\n', '', row['Tweets']) #Removing all the backslashes\n",
    "\n",
    "        #We then check polarity using the textblob library    \n",
    "        #We use the map function to iterate through each row of the Polarity and Result Column and then pass a lamda function which inturn returns the tweet sentiment\n",
    "        tweets_df['StartDate'] = start\n",
    "        tweets_df['EndDate'] = end\n",
    "        tweets_df['Polarity'] = tweets_df['Tweets'].map(lambda tweet: textblob.TextBlob(tweet).sentiment.polarity) \n",
    "        tweets_df['Result'] = tweets_df['Polarity'].map(lambda pol: '+' if pol > 0 else '-') #Checking the polarity\n",
    "\n",
    "        #Finding the overall positivity\n",
    "        positive = tweets_df[tweets_df.Result == '+'].count()['Tweets'] #Number of Positive Tweets\n",
    "        negative = tweets_df[tweets_df.Result == '-'].count()['Tweets'] #Number of Negative Tweets\n",
    "        \n",
    "    \n",
    "        #Appending the overallpolarity to the sentiment list. This process will be lopped for every combination of start and end date\n",
    "        if(positive > negative):\n",
    "            overallsentiment.append(\"positive\")\n",
    "        else:\n",
    "            overallsentiment.append(\"negative\")\n",
    "        \n",
    "        #Keeping a 10 second timer for the API to not overload\n",
    "        time.sleep(10)\n",
    "        \n",
    "    return([overallsentiment, positive, negative])\n",
    "    \n",
    "overallsentiment = sentiment(Dates)\n",
    "print(overallsentiment)"
   ]
  },
  {
   "cell_type": "markdown",
   "metadata": {},
   "source": [
    "### 1.4 Bringing these results to a seperate dataframe"
   ]
  },
  {
   "cell_type": "code",
   "execution_count": 22,
   "metadata": {},
   "outputs": [
    {
     "data": {
      "text/html": [
       "<div>\n",
       "<style scoped>\n",
       "    .dataframe tbody tr th:only-of-type {\n",
       "        vertical-align: middle;\n",
       "    }\n",
       "\n",
       "    .dataframe tbody tr th {\n",
       "        vertical-align: top;\n",
       "    }\n",
       "\n",
       "    .dataframe thead th {\n",
       "        text-align: right;\n",
       "    }\n",
       "</style>\n",
       "<table border=\"1\" class=\"dataframe\">\n",
       "  <thead>\n",
       "    <tr style=\"text-align: right;\">\n",
       "      <th></th>\n",
       "      <th>Start</th>\n",
       "      <th>End</th>\n",
       "      <th>Sentiment</th>\n",
       "    </tr>\n",
       "  </thead>\n",
       "  <tbody>\n",
       "    <tr>\n",
       "      <th>0</th>\n",
       "      <td>2021-12-08</td>\n",
       "      <td>2021-12-09</td>\n",
       "      <td>positive</td>\n",
       "    </tr>\n",
       "    <tr>\n",
       "      <th>1</th>\n",
       "      <td>2021-12-09</td>\n",
       "      <td>2021-12-10</td>\n",
       "      <td>negative</td>\n",
       "    </tr>\n",
       "    <tr>\n",
       "      <th>2</th>\n",
       "      <td>2021-12-10</td>\n",
       "      <td>2021-12-11</td>\n",
       "      <td>negative</td>\n",
       "    </tr>\n",
       "    <tr>\n",
       "      <th>3</th>\n",
       "      <td>2021-12-11</td>\n",
       "      <td>2021-12-12</td>\n",
       "      <td>negative</td>\n",
       "    </tr>\n",
       "    <tr>\n",
       "      <th>4</th>\n",
       "      <td>2021-12-12</td>\n",
       "      <td>2021-12-13</td>\n",
       "      <td>negative</td>\n",
       "    </tr>\n",
       "    <tr>\n",
       "      <th>5</th>\n",
       "      <td>2021-12-13</td>\n",
       "      <td>2021-12-14</td>\n",
       "      <td>negative</td>\n",
       "    </tr>\n",
       "    <tr>\n",
       "      <th>6</th>\n",
       "      <td>2021-12-14</td>\n",
       "      <td>2021-12-15</td>\n",
       "      <td>negative</td>\n",
       "    </tr>\n",
       "  </tbody>\n",
       "</table>\n",
       "</div>"
      ],
      "text/plain": [
       "        Start         End Sentiment\n",
       "0  2021-12-08  2021-12-09  positive\n",
       "1  2021-12-09  2021-12-10  negative\n",
       "2  2021-12-10  2021-12-11  negative\n",
       "3  2021-12-11  2021-12-12  negative\n",
       "4  2021-12-12  2021-12-13  negative\n",
       "5  2021-12-13  2021-12-14  negative\n",
       "6  2021-12-14  2021-12-15  negative"
      ]
     },
     "execution_count": 22,
     "metadata": {},
     "output_type": "execute_result"
    }
   ],
   "source": [
    "SentimentData = {'Start': [i[0] for i in Dates], 'End': [i[1] for i in Dates], 'Sentiment': overallsentiment[0]}\n",
    "sentiment_df = pd.DataFrame(SentimentData)\n",
    "sentiment_df"
   ]
  },
  {
   "cell_type": "markdown",
   "metadata": {},
   "source": [
    "### 1.5 Correlating and checking our results with the actual Dogecoin Prices from Alphaadvantage API\n",
    "\n",
    "\n",
    "**Note:** the API is not perfect and might be missing some dates. The API key below is of the project owner and is provided only for demonstration purposes\n",
    "\n",
    "**What it does:** The cell below uses our data list in order to calculate the overall price of Dogecoin for that day. \n",
    "\n",
    "**How it does & Problem Solving:** While we use the Dogecoin api to get the prices, we manually do all the calculations in order to know if the price for Dogecoin went up or down for that day. We first parse through each date and then pull out the opening and closing price for that day. We then, compare the two prices and accordingly estimate if the price went up or down for that day. After calculating the curve of Dogecoin prices for a particular day, we store that price curve in a list and end up getting a list with a price curve for each day in the date list.  "
   ]
  },
  {
   "cell_type": "code",
   "execution_count": null,
   "metadata": {},
   "outputs": [],
   "source": [
    "symbol = \"DOGE\" #crypto symbol\n",
    "APIkey = '8KUJ36BZP06HRKQR' \n",
    "url = 'https://www.alphavantage.co/query?function=DIGITAL_CURRENCY_DAILY&symbol=' + symbol + '&market=USD&apikey=' + APIkey #request\n",
    "r = requests.get(url) #calling data\n",
    "data = r.json() #extracting data"
   ]
  },
  {
   "cell_type": "code",
   "execution_count": 23,
   "metadata": {},
   "outputs": [
    {
     "name": "stdout",
     "output_type": "stream",
     "text": [
      "        Start         End Sentiment Direction  AveragePrice\n",
      "0  2021-12-08  2021-12-09  positive    Upward       0.17760\n",
      "1  2021-12-09  2021-12-10  negative  Downward       0.17410\n",
      "2  2021-12-10  2021-12-11  negative  Downward       0.16660\n",
      "3  2021-12-11  2021-12-12  negative    Upward       0.16650\n",
      "4  2021-12-12  2021-12-13  negative    Upward       0.16930\n",
      "5  2021-12-13  2021-12-14  negative  Downward       0.16345\n",
      "6  2021-12-14  2021-12-15  negative    Upward       0.17415\n"
     ]
    }
   ],
   "source": [
    "symbol = \"DOGE\" #crypto symbol\n",
    "APIkey = '8KUJ36BZP06HRKQR' \n",
    "url = 'https://www.alphavantage.co/query?function=DIGITAL_CURRENCY_DAILY&symbol=' + symbol + '&market=USD&apikey=' + APIkey #request\n",
    "r = requests.get(url) #calling data\n",
    "data = r.json() #extracting data\n",
    "\n",
    "averagePriceDaily = []\n",
    "direction = [] #empty list to store price movement direction\n",
    "for i in Dates:\n",
    "    openPrice = float(data[\"Time Series (Digital Currency Daily)\"][i[0]]['1a. open (USD)']) #finding opening price; i[0] is the start date\n",
    "    closePrice = float(data[\"Time Series (Digital Currency Daily)\"][i[0]]['4a. close (USD)']) #finding closing price\n",
    "    \n",
    "    averagePriceDaily.append((openPrice+closePrice)/2)\n",
    "\n",
    "    #Appending the results to our list\n",
    "    if(closePrice - openPrice > 0):\n",
    "        direction.append(\"Upward\")\n",
    "    else:\n",
    "        direction.append(\"Downward\")\n",
    "\n",
    "#Adding our new column to sentiment_df database\n",
    "sentiment_df['Direction'] = direction\n",
    "sentiment_df['AveragePrice'] = averagePriceDaily\n",
    "print(sentiment_df)"
   ]
  },
  {
   "cell_type": "markdown",
   "metadata": {},
   "source": [
    "### 1.6 Finding How Accurate Our Results Were\n",
    "\n",
    "**What it does:** The cell below compares our sentiment and Dogecoing price curve for each day and gives us the number of times that the sentiment was correct about the Dogecoin prices out of the number of days in the list. \n",
    "\n",
    "**How it does & Problem Solving:** All of our calculations in this function are manually by running a loop over the days and comparing the sentiment and price curve direction for that day. We calculate the number of times the sentiment was right and then calculate the accuracy percentage by dividing the accuracy by the total number of days. "
   ]
  },
  {
   "cell_type": "code",
   "execution_count": 24,
   "metadata": {},
   "outputs": [
    {
     "name": "stdout",
     "output_type": "stream",
     "text": [
      "57.14285714285714\n"
     ]
    }
   ],
   "source": [
    "Accuracy = 0\n",
    "for i in range(len(sentiment_df['Sentiment'])):\n",
    "    if((sentiment_df['Sentiment'].iloc[i] == 'positive') and (sentiment_df['Direction'].iloc[i] == 'Upward')): #Checking if price was upward when sentiment was positive\n",
    "        Accuracy += 1 #number of times it was accurate is incremented\n",
    "    elif((sentiment_df['Sentiment'].iloc[i] == 'negative') and (sentiment_df['Direction'].iloc[i] == 'Downward')): #Checking if price was downward when sentiment was negative\n",
    "        Accuracy += 1\n",
    "    \n",
    "print(Accuracy/len(sentiment_df)*100)"
   ]
  },
  {
   "cell_type": "markdown",
   "metadata": {},
   "source": [
    "**We notice that when we correlate prices, the twitter sentiment was Accurate about 57% in the past week.**"
   ]
  },
  {
   "cell_type": "markdown",
   "metadata": {},
   "source": [
    "### 1.7 Result\n",
    "\n",
    "After comparing the price curves and sentiment of the tweet for given days, we found that the sentiments were right only **57.142%** of the time, which is nearly 60%. Thus, investing in Dogecoin on the basis of tweet sentiments might turn out to be correct **only 6/10 times**. Therefore, as much as people might consider twitter to be the main influence over prices, it actually doesn't affect the prices too much. **It is smarter to consider the future of the crypto using your own genuine calculations as compared to relying on twitter for information.** "
   ]
  },
  {
   "cell_type": "code",
   "execution_count": 27,
   "metadata": {},
   "outputs": [
    {
     "data": {
      "image/png": "[encoded data removed]",
      "text/plain": [
       "<Figure size 432x288 with 2 Axes>"
      ]
     },
     "metadata": {
      "needs_background": "light"
     },
     "output_type": "display_data"
    }
   ],
   "source": [
    "fig, axs = plt.subplots(2) #creating 2 subplots\n",
    "fig.suptitle('Price VS Sentiment Movement')\n",
    "axs[0].plot(sentiment_df['End'], sentiment_df['AveragePrice']) #plotting the price movement\n",
    "axs[1].bar(['Positive','Negative'], [overallsentiment[1], overallsentiment[2]]) #plotting the number of positive and negative sentiment\n",
    "\n",
    "plt.show()"
   ]
  },
  {
   "cell_type": "markdown",
   "metadata": {},
   "source": [
    "## Graph Interpretation\n",
    "\n",
    "The graph above shows the Dogecoin prices in the last week. As we can see, the prices for Dogecoin have been steadily declining except for a small hike on 13th December after which the price dropped even more. On the other hand, the bar chart below shows the overall percentage of positive and negative tweets on twitter in regards to Dogecoin prices in the past week. As visible, majority of the people tweeted negatively about the twitter price. And after comparing both our graphs, we can conclude that although the Dogecoin prices and tweet sentimentalities are in sync, they are faintly corelated."
   ]
  },
  {
   "cell_type": "markdown",
   "metadata": {},
   "source": [
    "### Extracting More Data Beyond 7 days (OPTIONAL)\n",
    "Here, we will mainting an external csv file where we will store data. **We have collected data by running the below code everyday after recieving feedback**"
   ]
  },
  {
   "cell_type": "code",
   "execution_count": null,
   "metadata": {},
   "outputs": [],
   "source": [
    "#We run the same extraction code for \"today\" as end date and \"yesterday\" as start date. \n",
    "search = \"#Dogecoin since:\" + str(yesterday) + \" until:\" + str(today)\n",
    "tweet_cursor = tweepy.Cursor(api.search_tweets, q=search, lang='en', tweet_mode ='extended').items(1000)\n",
    "tweets = [tweet.full_text for tweet in tweet_cursor]\n",
    "tweets_df = pd.DataFrame(tweets, columns = ['Tweets'])\n",
    "        \n",
    "for _, row in tweets_df.iterrows():\n",
    "        row[\"Tweets\"] = re.sub('http\\S+', '', row['Tweets'])\n",
    "        row[\"Tweets\"] = re.sub('#\\S+', '', row['Tweets'])\n",
    "        row[\"Tweets\"] = re.sub('@\\S+', '', row['Tweets'])\n",
    "        row[\"Tweets\"] = re.sub('\\\\n', '', row['Tweets'])\n",
    "\n",
    "tweets_df['Polarity'] = tweets_df['Tweets'].map(lambda tweet: textblob.TextBlob(tweet).sentiment.polarity)\n",
    "tweets_df['Result'] = tweets_df['Polarity'].map(lambda pol: '+' if pol > 0 else '-')\n",
    "tweets_df.to_csv('TweetsDaily.csv', mode='a') #We use mode = \"a\" so it appends the new data not overwrites it"
   ]
  },
  {
   "cell_type": "markdown",
   "metadata": {},
   "source": [
    "### We do the same data analytics as we did above, just on the csv data"
   ]
  },
  {
   "cell_type": "code",
   "execution_count": null,
   "metadata": {},
   "outputs": [],
   "source": [
    "tweets_df = pd.read_csv('TweetsDaily.csv')\n",
    "overallsentiment = [] \n",
    "\n",
    "for i in range(len(Dates)):\n",
    "\n",
    "    start = str(Dates[i][0])\n",
    "    end = str(Dates[i][1])        \n",
    "\n",
    "    tweets_df['Polarity'] = tweets_df['Tweets'].map(lambda tweet: textblob.TextBlob(tweet).sentiment.polarity) \n",
    "    tweets_df['Result'] = tweets_df['Polarity'].map(lambda pol: '+' if pol > 0 else '-') #Checking the polarity\n",
    "\n",
    "    #Finding the overall positivity\n",
    "    positive = tweets_df[tweets_df.Result == '+'].count()['Tweets'] #Number of Positive Tweets\n",
    "    negative = tweets_df[tweets_df.Result == '-'].count()['Tweets'] #Number of Negative Tweets\n",
    "\n",
    "\n",
    "    #Appending the overallpolarity to the sentiment list. This process will be lopped for every combination of start and end date\n",
    "    if(positive > negative):\n",
    "        overallsentiment.append(\"positive\")\n",
    "    else:\n",
    "        overallsentiment.append(\"negative\")\n",
    "\n",
    "    #Keeping a 10 second timer for the API to not overload\n",
    "    time.sleep(10)"
   ]
  },
  {
   "cell_type": "markdown",
   "metadata": {},
   "source": [
    "## 2. Does an individual user’s tweet influence the Dogecoin Prices and if so which users?"
   ]
  },
  {
   "cell_type": "markdown",
   "metadata": {},
   "source": [
    "### We achieve the result to the above prompt by doing the following: \n",
    "\n",
    "**2.1 Scraping the data for the top 100 cryptocurrency twitter influencers:** <br> Here, we use beautiful soup to scrape data from the below mentioned url and then append it our xml file.\n",
    "\n",
    "**2.2 Scraping tweets of every single influencers:** <br> Here, we use the twitter api to get the first 3000 tweets of each individual influencer.\n",
    "\n",
    "**2.3 Checking who posts the most about Dogecoin:** <br> Here, we see which user's tweets has the maximum occurance of the word 'Doge' or 'Dogecoin'\n",
    "\n",
    "**2.4 Getting the top 5 experts on Dogecoin by Volume:** <br> Here, we will se who the top 5 doge influencers are. \n",
    "\n",
    "**2.5 Getting the daily sentiment for each of the top 5 users, correlating prices and then checking how accurate their sentiments were with price movement:** <br> Here, we iterate through each tweet of each top 5 influencers and then check their daily sentiment. We then see the price difference of each of those respective dates and return how accurate it was with sentiment. \n",
    "\n",
    "**2.6 Conclusion and plotting results**: <br> Here, we plot our conclusions and see whether we should listen to the top influencers or not. "
   ]
  },
  {
   "cell_type": "markdown",
   "metadata": {},
   "source": [
    "### 2.1 Scraping the data for the top 100 cryptocurrency twitter influencers\n",
    "\n",
    "**Caution:** The below code takes atleast an hour to run. The respective csv files are provided in notebowl. \n",
    "\n",
    "**What it does:** The cell below givees parses across a website that consists of the top crypto currency experts and returns their twitter handles. \n",
    "\n",
    "**How it works & Problem Solving:** We accomplish this by first obtaining the HTML code of the website and then convert it into XML format. We then run through the XML file and store all the tags with the twitter handles in a list. Once stored in the list, we then convert the entire list data into XML format by storing the experts' rank as tags, and their name, twitter handle and csv filename as the attributes. Before converting the list into XML format, we clean the data manually by removing the items in the list that do not have a twitter handle, or the twitter handles of people who deleted their twitter account. We also replace the old handles with new handles for the people who have updated their username. We finally end up with an XML file that conists of all the information for each expert.\n"
   ]
  },
  {
   "cell_type": "code",
   "execution_count": 14,
   "metadata": {},
   "outputs": [],
   "source": [
    "from xml.dom import minidom\n",
    "import os \n",
    "import xml.etree.cElementTree as ET\n",
    "\n",
    "\n",
    "def getTwitterHandles():\n",
    "    \n",
    "    '''\n",
    "    Function for scraping all the twitter handles of the top one hundred influencer.\n",
    "    name: getTwitterHandles()\n",
    "    paramter: none\n",
    "    return: list of twitter handles\n",
    "    '''\n",
    "\n",
    "    website_url = requests.get(\"https://cryptoweekly.co/100/\").text # website url for the top 100 crypto influencers\n",
    "    \n",
    "    soup = BeautifulSoup(website_url, \"lxml\") # extracting the HTML code of the website using beautiful soup\n",
    "    profiles = soup.findAll(\"div\", {\"class\":\"twitte crypto-text-color-blue\"}) # extracting lines of HTML code that consists of the twtter handles \n",
    "    \n",
    "    twitterHandles = [] # creating empty list which stores twitterHandles\n",
    "    for i in profiles:\n",
    "        match = re.search(r'\\@[A-Za-z_0-9]*', str(i)) # using regular expressions to just extract the twitter handle out of the line of HTML code\n",
    "        twitterHandles.append(match.group(0)[1:]) # to remove the '@' in the beginning\n",
    "    \n",
    "    \"\"\"\n",
    "    The following lines of code help with changes in the twitter handles of people who have changed their handles\n",
    "    since the date the post on the website was created.\n",
    "    \"\"\"\n",
    "\n",
    "    for i in range(len(twitterHandles)): \n",
    "        if twitterHandles[i] == 'michael_saylor': # old twitter handle\n",
    "            twitterHandles[i] = 'saylor' # new twitter handle\n",
    "            continue\n",
    "    \n",
    "    \"\"\"\n",
    "    The following lines of code help with elimination of those twitter handlees who either don't exist anymore or for \n",
    "    the people who have deleted their twitter account itself.\n",
    "    \"\"\"\n",
    "    \n",
    "    twitterHandles = [x for x in twitterHandles if x != '']\n",
    "    twitterHandles.remove('jlvdv') # deleted twitter account\n",
    "    twitterHandles.remove('jinglanW') # deleted twitter account\n",
    "    twitterHandles.remove('joyce') # deleted twitter account\n",
    "    \n",
    "    \n",
    "    root = ET.Element(\"TopInfluencers\")\n",
    "\n",
    "    for handle in twitterHandles:\n",
    "        user = ET.SubElement(root, \"User\")\n",
    "        ET.SubElement(user, \"Name\").text = handle\n",
    "        ET.SubElement(user, \"Handle\").text = '@' + handle\n",
    "        ET.SubElement(user, \"Filepath\").text = handle + '_tweets.csv'\n",
    "        \n",
    "\n",
    "    tree = ET.ElementTree(root)\n",
    "    tree.write(\"twitterInfluencers.xml\")\n",
    "\n",
    "getTwitterHandles() # prints the list of handles for the user"
   ]
  },
  {
   "cell_type": "markdown",
   "metadata": {},
   "source": [
    "### 2.2 Scraping Individual User Tweets\n",
    "**What it does:** The cell below goes calls the getTwitterHandles() function and sends out each of the twitter handles to another function. The get_all_tweets() function, goes through each tweet of that user and saves the last 3000 tweets of that user in individual csv files.\n",
    "\n",
    "**How it does:** Although we are using the twitter api to get the tweets, we filter out the id, text, and date out of the other irrelevant information from those tweets using regular expressions and list comprehension. Moreover we use the LoL format to save the tweets and finally save them in a csv file. The csv file of each expert, consists of the tweet id, creation date and the twitter text. \n",
    "\n",
    "**Note: We run this code manually twice so that we dont run out of rate limit.**<br>\n",
    "**The csv files get saved in the documents folder**"
   ]
  },
  {
   "cell_type": "code",
   "execution_count": null,
   "metadata": {},
   "outputs": [],
   "source": [
    "def get_all_tweets(screen_name): \n",
    "    \n",
    "    '''\n",
    "    Function for scraping the tweets using the twitter handle and saving them in a file.\n",
    "    name: get_all_tweets\n",
    "    parameter: string - twitter handle\n",
    "    return: none\n",
    "    '''\n",
    "    \n",
    "    print(\"Getting tweets from\" + screen_name) # printing the handle of the person whose tweet we extract \n",
    "    \n",
    "    auth = tweepy.OAuthHandler(api_key, api_key_secret) # we create an object called auth that uses OAuthHandler call back which takes in api key and api secret as parameters\n",
    "    auth.set_access_token(access_token, access_token_secret) # using auth, we gain access to the api using the access token and access secret\n",
    "    api = tweepy.API(auth) # finally we store the access in api for future purposes\n",
    "    \n",
    "    '''\n",
    "    The next few lines are done in order to fill in some intial tweets in new_tweets so that when we later run the \n",
    "    program, we only stop when there are no more tweets to be added for that user.\n",
    "    '''\n",
    "    alltweets = [] # empty list which stores all the tweets for each user\n",
    "    \n",
    "    new_tweets = api.user_timeline(screen_name = screen_name, count = 200) # store the first 200 tweets of the user using their screen name\n",
    "\n",
    "    alltweets.extend(new_tweets) # appending the first 200 tweets of the person in alltweets\n",
    "   \n",
    "    oldest = alltweets[-1].id - 1 # getting the tweet id of the last tweet we stored in alltweets\n",
    "    \n",
    "    while len(new_tweets) > 0: # condition so that tweets are not added once the 3000 mark is reached. The above code lines were written so that the code did not terminate here\n",
    "        print(\"Getting tweets before %s\" % (oldest)) # printing live information to user\n",
    "        \n",
    "        new_tweets = api.user_timeline(screen_name = screen_name, count = 200, max_id = oldest) # extracting a new set of 200 tweets strating from the previous tweet id\n",
    "        \n",
    "        alltweets.extend(new_tweets) # appending the new set of 200 tweets \n",
    "      \n",
    "        oldest = alltweets[-1].id - 1 # updating the oldest tweet id to last tweet id appended in the new batch of 200 tweets\n",
    "        \n",
    "        print(\"...%s tweets downloaded so far\" % (len(alltweets))) # live information for the user to know how many tweets have been scraped till that moment in time\n",
    "    \n",
    "    outtweets = [[tweet.id_str, tweet.created_at, tweet.text] for tweet in alltweets] # storing information about the tweets in a list for each user\n",
    "    \n",
    "    with open(f'{screen_name}_tweets.csv', 'w') as f: # opening a new file for each user as per their twitter handle name\n",
    "        writer = csv.writer(f) # writing a csv file\n",
    "        writer.writerow([\"id\",\"created_at\",\"text\"]) # labeling the first row\n",
    "        writer.writerows(outtweets) # exporting all the tweets for that particular user in the particular order\n",
    "\n",
    "    pass # continues to the next user\n",
    "\n",
    "\n",
    "#Getting xml data and taking influencers\n",
    "stripparser = etree.XMLParser(remove_blank_text = True)\n",
    "tree = etree.parse(\"twitterInfluencers.xml\", stripparser)\n",
    "root = tree.getroot()\n",
    "string = etree.tostring(root, pretty_print = True).decode('utf-8')\n",
    "#print(string)\n",
    "\n",
    "influencer = []\n",
    "influencers = root.findall(\"User\")\n",
    "for user in influencers:\n",
    "    userRoot = user.findall('Name')\n",
    "    for child in userRoot:\n",
    "        influencer.append(child.text)\n",
    "            \n",
    "print(influencer)\n",
    "\n",
    "for i in range(0, (int(len(influencer)/2))): # runs a loop for the first half of the twitter handles\n",
    "    get_all_tweets(str(influencer[i])) # calls the get_all_tweets function for each twitter handle\n",
    "\n",
    "time.sleep(1000) #timer because twitter api restrics the amount of tweets in one run\n",
    "\n",
    "for i in range((int(len(influencer)/2)), len(handles)): #runs a loop for the second half of the twitter handles\n",
    "    get_all_tweets(str(influencer[i])) # calls the get_all_tweets function for each twitter handle"
   ]
  },
  {
   "cell_type": "markdown",
   "metadata": {},
   "source": [
    "### 2.3 Checking who posts the most about Dogecoin. \n",
    "\n",
    "**What it does:** The cell below using the twitter handles goes through each of the csv files in our folder and return the number of tweets each expert makes regarding Dogecoin irrespective of it being positive or negative. \n",
    "\n",
    "**How it does & Problem Solving:** Using the XML file we had originally created that consisted of the expert information, we run throught each cvs file which we obtained in the previous function. We read the csv file and convert it into a pandas dataframe. After that, we go through each row i.e each tweet and check if the tweet text consists of the word 'dogecoin' or 'doge'. For accuracy, we convert the tweet into lowercase so as to check the terms without worrying about their capitalization. \n"
   ]
  },
  {
   "cell_type": "code",
   "execution_count": 28,
   "metadata": {},
   "outputs": [],
   "source": [
    "def get_Expert_dogecount(filename): \n",
    "    '''\n",
    "    The function takes in a twitter filename and returns the number of tweets of that person that consist of the word \n",
    "    'dogecoin' or 'doge'.\n",
    "    name: get_Expert_dogecount()\n",
    "    parameter: twitterhandle\n",
    "    return: count of the tweets containing supposed information regarding dogecoin\n",
    "    '''\n",
    "    df = pd.read_csv(filename) # converting the csv files to pandas dataframe\n",
    "    rows = len(df.index) # calculate the number of rows in the dataframe or the number of tweets made by that expert\n",
    "    count = 0 # assigning count as 0. count stores the number of tweets containing the specific terms\n",
    "    for i in range(rows):\n",
    "        tweet = df['text'][i]\n",
    "        tweet = tweet.lower() # converting the tweet to lowercase so as to remove the problem of case-sensitiveness\n",
    "        if 'doge' in tweet or 'dogecoin' in tweet: # checking for the crypto name and the tag assigned to it by NYSE\n",
    "            count += 1 # increasing count for every tweet\n",
    "    \n",
    "    return count # returning the final count"
   ]
  },
  {
   "cell_type": "markdown",
   "metadata": {},
   "source": [
    "### 2.4 Getting the top 5 Experts on Dogecoin by volume\n",
    "\n",
    "\n",
    "**What it does:** The cell below using the above function gives us the top 5 experts who tweet about Dogecoin by volume.\n",
    "\n",
    "**How it does & Problem Solving:** Using the list of handles scraped getTwitterHandles() function, we then send each handle to the above function and check their count. We save all the counts for each expert in a parellel list. And then using the max function, we calculate the top 5 tweeters. In order to make this smoother, we run a loop 5 times and each time extract and delete the twitter handle of the top tweeter and their tweet count in the parellel list. "
   ]
  },
  {
   "cell_type": "code",
   "execution_count": 29,
   "metadata": {},
   "outputs": [
    {
     "name": "stdout",
     "output_type": "stream",
     "text": [
      "['coinmarketcap_tweets.csv', 'VinnyLingham_tweets.csv', 'tyler_tweets.csv', 'cameron_tweets.csv', 'BarrySilbert_tweets.csv']\n"
     ]
    }
   ],
   "source": [
    "def get_Top5_Experts(filename):\n",
    "    '''\n",
    "    The function first sends out each twitter handle to the get_Expert_dogecount() function using the \n",
    "    getTwitterHandles() function. While sending each twitter handle, it appends the count of each twitter expert in \n",
    "    a parellel list. We then run a loop 5 times (since we would like to get the top 5) and get the experts with the\n",
    "    max number of tweets regarding Dogecoin by volume. \n",
    "    name: get_Top5_Experts()\n",
    "    parameeter: none\n",
    "    return: none\n",
    "    '''\n",
    "    \n",
    "    countlist = [] # creating a parellel list\n",
    "    for i in filename:\n",
    "        countlist.append(get_Expert_dogecount(i)) # sending each handle for getting the count\n",
    "        \n",
    "    Expertlist = [] # creating a list of the top 5 Experts by volume\n",
    "    for i in range(5):\n",
    "        maxcount = max(countlist) # getting the max count in the current list \n",
    "        maxindex = countlist.index(maxcount) # getting the max index for the max count in the current list\n",
    "        Expertlist.append(filename[maxindex]) # appending the expert at the max index\n",
    "        del countlist[maxindex] # deleting the current max count\n",
    "        del filename[maxindex] # deleting the twitter handle for the expert already added into the list\n",
    "        \n",
    "    return(Expertlist)\n",
    "\n",
    "\n",
    "filename = []\n",
    "influencers = root.findall(\"User\")\n",
    "for user in influencers:\n",
    "    userRoot = user.findall('Filepath')\n",
    "    for child in userRoot:\n",
    "        filename.append(child.text)\n",
    "\n",
    "Expertlist = get_Top5_Experts(filename)\n",
    "print(Expertlist)"
   ]
  },
  {
   "cell_type": "markdown",
   "metadata": {},
   "source": [
    "### 2.5 Comparing the sentimentant of the experts' tweets with the Dogecoin price for that day"
   ]
  },
  {
   "cell_type": "markdown",
   "metadata": {},
   "source": [
    "**What it does:** The cell below takes in the top 5 expert list and parses through their tweets from their csv file and calculates the sentiment of each of their tweets. It then compares the sentiment of that tweet with the prices of Dogecoin and checks the accuracy of each expert for each sentiment. In the end, it prints the average accuracy for each expert. \n",
    "\n",
    "**How it does & Problem Solving:** Similar to the first question, we use the map function to get the polarity and sentiment of each of the tweets saved in the csv file for each of the experts. For each tweet, we look at it's creation date and get the price curve for Dogecoin for that day by comparing the open and closing price for that day. We then compare the the sentiment of the tweet with the price curve for that day and if they both allign with each other, we increase the accuracy of the expert. We repeat this for each tweet of every expert. While calculating the accuracy, we also simulatenously calculate the average accuracy until that point. Finally, we store all of this information in a dictionar with the handle of the expert as the key and their accuracy as the value."
   ]
  },
  {
   "cell_type": "code",
   "execution_count": 30,
   "metadata": {},
   "outputs": [
    {
     "data": {
      "text/plain": [
       "{'coinmarketcap': 50.0,\n",
       " 'VinnyLingham': 50.34090909090909,\n",
       " 'tyler': 48.97727272727273,\n",
       " 'cameron': 47.95454545454545,\n",
       " 'BarrySilbert': 52.61363636363636}"
      ]
     },
     "execution_count": 30,
     "metadata": {},
     "output_type": "execute_result"
    }
   ],
   "source": [
    "def user_sentiment(Expertlist):\n",
    "    '''\n",
    "    The function's objective is to get each user's accuracy in predicting dogecoin prices. \n",
    "    To do this, we first loop through each csv file and get sentiment of each tweet on each day. \n",
    "    Next, we filter the data based on the amount of dates the Dogecoin price API has given us: we only operate the common data in them\n",
    "    Once done, we see correlation in prediction and prices and calculate accuracy, like we did in part 1. \n",
    "    name: get_Top5_Experts()\n",
    "    parameeter: Expertlist -> list of all the csv filenames of all the top 5 dogecoin users\n",
    "    return: Accuracy_each_user -> dictonary with user profile and accuracy\n",
    "    '''\n",
    "    \n",
    "    Accuracy_each_user = {}\n",
    "    for profile in Expertlist: #iteration over each file\n",
    "        \n",
    "        filepath = profile\n",
    "        usertweets_df = pd.read_csv(filepath)\n",
    "        \n",
    "        #getting polarity and sentiment of each tweet of each user\n",
    "        usertweets_df['Polarity'] = usertweets_df['text'].map(lambda tweet: textblob.TextBlob(tweet).sentiment.polarity)\n",
    "        usertweets_df['Sentiment'] = usertweets_df['Polarity'].map(lambda pol: 'positive' if pol > 0 else 'negative') #Checking the polarity\n",
    "        \n",
    "        #NOTE: the free API has only 880 dates therefore we use data with only 880 values\n",
    "        usertweets_df = usertweets_df.iloc[0:881] #because the free version of api only gives us prices from last 883 days, so we use last 880 days of tweets of user\n",
    "        dates = [i[0:10] for i in usertweets_df['created_at']]\n",
    "        \n",
    "        direction = [] #direction of daily movement of price\n",
    "        \n",
    "        \n",
    "        for i in (range(len(dates))):\n",
    "            \n",
    "            #to avoid unexpected errors\n",
    "            if(i == 880):\n",
    "                break\n",
    "                \n",
    "            #only operating on dates that are common in both usertweets_df and API dates\n",
    "            if((dates[i] not in data[\"Time Series (Digital Currency Daily)\"]) or (dates[i+1] not in data[\"Time Series (Digital Currency Daily)\"])):\n",
    "                continue\n",
    "                \n",
    "            #getting opening and closing price on each day\n",
    "            openPrice = float(data[\"Time Series (Digital Currency Daily)\"][dates[i]]['1a. open (USD)']) #finding opening price; i[0] is the start date\n",
    "            closePrice = float(data[\"Time Series (Digital Currency Daily)\"][dates[i+1]]['4a. close (USD)']) #finding closing price\n",
    "            \n",
    "            #finding the trend and appending it to the direction\n",
    "            if(closePrice - openPrice > 0):\n",
    "                direction.append(\"Upward\")\n",
    "            else:\n",
    "                direction.append(\"Downward\")\n",
    "        \n",
    "        #making the direction list and direction column of same length\n",
    "        usertweets_df = usertweets_df.iloc[0:len(direction)] #removing excess values (usually only 1 or 2)\n",
    "        usertweets_df['Direction'] = direction #adding a new column to our data\n",
    "        \n",
    "        \n",
    "        \n",
    "        #Finding how accurate our findings were:\n",
    "        Accuracy = 0\n",
    "        for i in range(len(usertweets_df['Sentiment'])):\n",
    "            if((usertweets_df['Sentiment'].iloc[i] == 'positive') and (usertweets_df['Direction'].iloc[i] == 'Upward')): #Checking if price was upward when sentiment was positive\n",
    "                Accuracy += 1 #number of times it was accurate is incremented\n",
    "            elif((usertweets_df['Sentiment'].iloc[i] == 'negative') and (usertweets_df['Direction'].iloc[i] == 'Downward')): #Checking if price was downward when sentiment was negative\n",
    "                Accuracy += 1\n",
    "        \n",
    "        Accuracy_each_user[profile[0:-11]] = (Accuracy/len(usertweets_df)*100) #Getting percentage accuracy and appending to our dictionary with their respective twitter profiles\n",
    "       \n",
    "    return(Accuracy_each_user)\n",
    "        \n",
    "user_sentiment(Expertlist)"
   ]
  },
  {
   "cell_type": "markdown",
   "metadata": {},
   "source": [
    "### 2.6 Result\n",
    "\n",
    "After extracting the twitter handles of the top experts on cryptocurrencies and saving all their tweets in a csv file, we filter out the top experts on Dogecoin. And on comparing their tweets with the price of Dogecoin for that day, we notice that all of them have around **50% accuracy.** This goes on to highlight the fact that following the advices of these experts is **equivalent to tossing a coin and making decisions.** These experts might be considered geniuses but purchasing and selling Dogecoin on the basis of their tweets has **only 1 out of 2 chances of being right.** And thus, using your knowledge, research, and calculation is a much better method than just blindly following twitter and trading Dogecoin. "
   ]
  },
  {
   "cell_type": "code",
   "execution_count": 32,
   "metadata": {},
   "outputs": [
    {
     "name": "stdout",
     "output_type": "stream",
     "text": [
      "The price movement for coinmarketcap_tweets: \n"
     ]
    },
    {
     "data": {
      "image/png": "[encoded data removed]",
      "text/plain": [
       "<Figure size 432x288 with 2 Axes>"
      ]
     },
     "metadata": {
      "needs_background": "light"
     },
     "output_type": "display_data"
    },
    {
     "name": "stdout",
     "output_type": "stream",
     "text": [
      "The price movement for VinnyLingham_tweets: \n"
     ]
    },
    {
     "data": {
      "image/png": "[encoded data removed]",
      "text/plain": [
       "<Figure size 432x288 with 2 Axes>"
      ]
     },
     "metadata": {
      "needs_background": "light"
     },
     "output_type": "display_data"
    },
    {
     "name": "stdout",
     "output_type": "stream",
     "text": [
      "The price movement for tyler_tweets: \n"
     ]
    },
    {
     "data": {
      "image/png": "[encoded data removed]",
      "text/plain": [
       "<Figure size 432x288 with 2 Axes>"
      ]
     },
     "metadata": {
      "needs_background": "light"
     },
     "output_type": "display_data"
    },
    {
     "name": "stdout",
     "output_type": "stream",
     "text": [
      "The price movement for cameron_tweets: \n"
     ]
    },
    {
     "data": {
      "image/png": "[encoded data removed]",
      "text/plain": [
       "<Figure size 432x288 with 2 Axes>"
      ]
     },
     "metadata": {
      "needs_background": "light"
     },
     "output_type": "display_data"
    },
    {
     "name": "stdout",
     "output_type": "stream",
     "text": [
      "The price movement for BarrySilbert_tweets: \n"
     ]
    },
    {
     "data": {
      "image/png": "[encoded data removed]",
      "text/plain": [
       "<Figure size 432x288 with 2 Axes>"
      ]
     },
     "metadata": {
      "needs_background": "light"
     },
     "output_type": "display_data"
    },
    {
     "data": {
      "text/plain": [
       "{'coinmarketcap': 50.0,\n",
       " 'VinnyLingham': 50.34090909090909,\n",
       " 'tyler': 48.97727272727273,\n",
       " 'cameron': 47.95454545454545,\n",
       " 'BarrySilbert': 52.61363636363636}"
      ]
     },
     "execution_count": 32,
     "metadata": {},
     "output_type": "execute_result"
    }
   ],
   "source": [
    "for profile in Expertlist: #iteration over each file\n",
    "\n",
    "    filepath = profile\n",
    "    usertweets_df = pd.read_csv(filepath)\n",
    "\n",
    "    #getting polarity and sentiment of each tweet of each user\n",
    "    usertweets_df['Polarity'] = usertweets_df['text'].map(lambda tweet: textblob.TextBlob(tweet).sentiment.polarity)\n",
    "    usertweets_df['Sentiment'] = usertweets_df['Polarity'].map(lambda pol: 'positive' if pol > 0 else 'negative') #Checking the polarity\n",
    "\n",
    "    #NOTE: the free API has only 880 dates therefore we use data with only 880 values\n",
    "    usertweets_df = usertweets_df.iloc[0:881] #because the free version of api only gives us prices from last 883 days, so we use last 880 days of tweets of user\n",
    "    dates = [i[0:10] for i in usertweets_df['created_at']]\n",
    "\n",
    "    averagePrice = [] \n",
    "\n",
    "    for i in (range(len(dates))):\n",
    "\n",
    "        #to avoid unexpected errors\n",
    "        if(i == 880):\n",
    "            break\n",
    "\n",
    "        #only operating on dates that are common in both usertweets_df and API dates\n",
    "        if((dates[i] not in data[\"Time Series (Digital Currency Daily)\"]) or (dates[i+1] not in data[\"Time Series (Digital Currency Daily)\"])):\n",
    "            continue\n",
    "\n",
    "        #getting opening and closing price on each day\n",
    "        openPrice = float(data[\"Time Series (Digital Currency Daily)\"][dates[i]]['1a. open (USD)']) #finding opening price; i[0] is the start date\n",
    "        closePrice = float(data[\"Time Series (Digital Currency Daily)\"][dates[i+1]]['4a. close (USD)']) #finding closing price\n",
    "\n",
    "        averagePrice.append((closePrice+openPrice)/2)\n",
    "        \n",
    "    usertweets_df = usertweets_df.iloc[0:len(averagePrice)] #removing excess values (usually only 1 or 2)\n",
    "    usertweets_df['averagePrice'] = averagePrice\n",
    "        \n",
    "    #getting the dates from the timestamp of usertweets\n",
    "    dates = [usertweets_df['created_at'].iloc[i][0:10] for i in range(len(usertweets_df['created_at']))]\n",
    "    \n",
    "    print(\"The price movement for \" + filepath[0:-4] + \": \")\n",
    "    \n",
    "    #creating 2 subplots and printing our results\n",
    "    fig, axs = plt.subplots(2)\n",
    "    fig.suptitle('Price VS Sentiment Movement')\n",
    "    axs[0].plot(dates, usertweets_df['averagePrice'])\n",
    "    axs[1].plot(dates, usertweets_df['Polarity'])\n",
    "\n",
    "    plt.show()\n",
    "\n",
    "user_sentiment(Expertlist)"
   ]
  },
  {
   "cell_type": "markdown",
   "metadata": {},
   "source": [
    "## Conclusion for part 2\n",
    "Above we have five different pair of graphs for each of the top five experts. In each pair, the top graph shows the price of Dogecoin over time while the bottom graph shows the sentiment of the experts tweet regarding Dogecoin prices over time. \n",
    "\n",
    "In each pair of graphs we can observe that the sentiments and prices allign at random times upto random limits without any kind of definite pattern or flow. This goes on to reinforce our original result that dogecoin experts are correct only half of the times. And after comparing each pair of graphs, we can conclude that trading on the basis of advice from tweet sentiments of experts has as much chances of giving you a profit as much as loss. "
   ]
  },
  {
   "cell_type": "markdown",
   "metadata": {},
   "source": [
    "## 3. Does the volume of tweets on a particular day about Dogecoin affect the price movements of Dogecoin?"
   ]
  },
  {
   "cell_type": "markdown",
   "metadata": {},
   "source": [
    "We achieve our goal by the following steps: \n",
    "\n",
    "**3.1 Tweet Counter for a sample Data:** <br> Here, we ask the user for a sample hour of data and return the number of tweets for a specific day. \n",
    "\n",
    "**3.2 We find the volume for the same sample over the last 7 days:** <br> Here, we run the above function for each particular day. Here, we keep a global track of rate limit, both from the previous iteration and the current iteration so we do not exceed it. \n",
    "\n",
    "**3.3 Working with data already scraped:**<br> Here, we use a data that we have scraped before hand from 11pm-12am, 10pm-11pm, 09-10pm from the present date to the previous 7 days. \n",
    "\n",
    "**3.4 Extracting Intraday Dogecoin Price Data:**<br> Here, we will use intraday hourly data for prices from api because we are picking a particular time in a particular day. \n",
    "\n",
    "**3.5 Adding Price Difference to Volume_df** <br> Here, we just add a new column of the caluclated price change to our main dataset.\n",
    "\n",
    "**3.6 Finding Statistical Correlation Between Volume and Prices:** <br> Here, we find the correlation between the two quantities with the formula below. \n",
    "\n",
    "**3.7 Conclusion and plotting our results:** <br> Here, we will visualize if our quantities have a positive correlation, negative correlation or neither. "
   ]
  },
  {
   "cell_type": "markdown",
   "metadata": {},
   "source": [
    "### 3.1 Tweet Counter for a sample Data:\n",
    "\n",
    "**What it does:** The cell below takes in the two consecutives dates as the first two parameters and the hour for which the number tweets need to calculated as the final parameter. Using the above three parameters, it returns all the time stamp of all the tweets containing the word \"Dogecoin\" for the given dates at the given hour.\n",
    "\n",
    "**How it does & Problem Solving:** We take in two consecutive dates so as to calculate the tweets for the date taken as the first parameter. Since tweets are extracted in reverse time, the second date helps the API to start before 12:00 am of the second parameter and continue till the give hour (in 24-hour format). We then convert each tweet into a string and extract the date and time using index boundaries. We keep appending the date and time string for each tweet in a list and alongside also keep a count of the rate limit to make sure that the code does not sure an error incase we surpass the rate limit. Finally we return the list of dates and times as well as the rate limit so that the next time the function runs, the rate limit is not set back to zero, but rather continues with the previous value."
   ]
  },
  {
   "cell_type": "code",
   "execution_count": null,
   "metadata": {},
   "outputs": [],
   "source": [
    "def get_tweet_volume(start, end, hour):\n",
    "    \n",
    "    \"\"\"\n",
    "    What the function does: The function takes the start and end time from the dates variable we created above. It then takes\n",
    "    each tweet and then adds one to tweets for every iteration. We do this because the API doesnt give us the volume directly\n",
    "    and therefore, we have to loop through each tweet to count it. \n",
    "    Also, since we keep track of a flag which shows us if we have already used the time.sleep after a ratelimit exceed. Or else,\n",
    "    for every iteration, it will run a time.sleep which we dont want.\n",
    "    Note: the function might take time to load.\n",
    "    Input: Start time, end time, sample hour\n",
    "    Output: Tweet Volume and Rate Limit Used. \n",
    "    \"\"\"\n",
    "    search = \"#Dogecoin since:\" + start + \" until:\" + end #Query String that is passed to the API Cursor which then scraps data.\n",
    "    tweet_cursor = tweepy.Cursor(api.search_tweets, q=search, lang='en', tweet_mode ='extended').items() #Getting our tweets iterator object\n",
    "\n",
    "    #setting our tweets counter and ratelimit counter\n",
    "    tweets = 0\n",
    "    ratelimit = 0\n",
    "    \n",
    "    #checker if we used the time.sleep yet or not\n",
    "    flag = False\n",
    "\n",
    "    for tweet in tweet_cursor:\n",
    "        if(ratelimit > 1000):\n",
    "            time.sleep(1000)\n",
    "            flag = True\n",
    "        else:\n",
    "            if( int(str(tweet.created_at)[11:13]) < hour ): #Here, [11:13] gives use the specific hour number\n",
    "                break\n",
    "            else:\n",
    "                tweets = tweets + 1\n",
    "                ratelimit = ratelimit + 1\n",
    "                \n",
    "                if(flag == True):\n",
    "                    ratelimit = 0 #we set the rate limit back to zero since we waited for about 15 min\n",
    "                    flag = False\n",
    "                \n",
    "    return([tweets, ratelimit]) #we return the rate limit because when we get weekly data later, we need to keep track of overall rate limit\n",
    "\n",
    "get_tweet_volume('2021-12-11', '2021-12-12', 23)"
   ]
  },
  {
   "cell_type": "markdown",
   "metadata": {},
   "source": [
    "### 3.2 We find the volume for the same sample over the last 7 days:\n",
    "\n",
    "**What it does:** Returns the list of date and time for all the tweets at a particular hour in the past week.  \n",
    "\n",
    "**How it does & Problem Solving:** The function first uese our original Date list which consisted of the tweets from the past week. It then parses through each date and then sends it to te get_tweet_volume() function in order to get tweets for that particular day at the given hour. While we are appending the date and time stamps, we make sure to not cross the rate limit and if at any point it does, we ask the function to sleep until the rate limit is refreshed. The best part about this function is that the rate limit is a dynamic variable in a way that keeps updating it's value in the previous as well as the function below."
   ]
  },
  {
   "cell_type": "code",
   "execution_count": null,
   "metadata": {},
   "outputs": [],
   "source": [
    "def tweet_volume_week(Dates, hour):\n",
    "    \n",
    "    \"\"\"\n",
    "    What the function does: The function gets the volume of each day for our sample for the last 7 days from present. It keeps\n",
    "    track of the overall rate limit. \n",
    "    \n",
    "    NOTE: THE FUNCTION TAKES A LONG TIME TO RUN, and there might be a possible rate limit error if you have been running all the \n",
    "    cells at once. Therefore, we have already extracted the data in the csv below. \n",
    "    \n",
    "    Input: Dates LoL which contains start and end and sample hour\n",
    "    Output: VolumeLoL which gives daily volume\n",
    "    \"\"\"\n",
    "    \n",
    "    VolumeLoL = []\n",
    "    ratelimit = 0\n",
    "    flag = False\n",
    "    \n",
    "    for i in range(len(Dates)):\n",
    "        \n",
    "        #Getting start and end Dates\n",
    "        start = str(Dates[i][0])\n",
    "        end = str(Dates[i][1])\n",
    "        EndDateAppend = [end]\n",
    "        \n",
    "        if(ratelimit > 500): #we keep it 500 because the previous iteration will also have some ratelimit used.\n",
    "            time.sleep(1000)\n",
    "            flag == True\n",
    "        \n",
    "        else:\n",
    "            \n",
    "            if(flag == True):\n",
    "                ratelimit = 0 #if we used time.sleep(), the rate limit is set back to 0\n",
    "                flag = False\n",
    "                \n",
    "            if(flag == False):\n",
    "                volumeData = get_tweet_volume(start, end, hour)\n",
    "                volume = volumeData[0]\n",
    "                ratelimit = volumeData[1] #this is the rate limit of previous iteration\n",
    "        \n",
    "        EndDateAppend.append(volume) #we append the date to the EndDate and then to VolumeLoL with the price.\n",
    "        VolumeLoL.append(EndDateAppend)\n",
    "        \n",
    "        #we append our finding to the csv below \n",
    "        with open('tweetsvolume.csv', 'a', newline='') as f_object:   #a is for append\n",
    "            # Pass the CSV  file object to the writer() function\n",
    "            writer_object = writer(f_object)\n",
    "            # Result - a writer object\n",
    "            # Pass the data in the list as an argument into the writerow() function\n",
    "            writer_object.writerow([end, 'hour' + ':00:00', volume]) #Here, we append this row to the main csv\n",
    "        # Close the file object\n",
    "        f_object.close()\n",
    "\n",
    "    return(VolumeLoL)\n",
    "\n",
    "VolumeLoL = tweet_volume_week(Dates, 23)"
   ]
  },
  {
   "cell_type": "markdown",
   "metadata": {},
   "source": [
    "### 3.3 Working with data already scraped"
   ]
  },
  {
   "cell_type": "code",
   "execution_count": 35,
   "metadata": {},
   "outputs": [
    {
     "data": {
      "text/html": [
       "<div>\n",
       "<style scoped>\n",
       "    .dataframe tbody tr th:only-of-type {\n",
       "        vertical-align: middle;\n",
       "    }\n",
       "\n",
       "    .dataframe tbody tr th {\n",
       "        vertical-align: top;\n",
       "    }\n",
       "\n",
       "    .dataframe thead th {\n",
       "        text-align: right;\n",
       "    }\n",
       "</style>\n",
       "<table border=\"1\" class=\"dataframe\">\n",
       "  <thead>\n",
       "    <tr style=\"text-align: right;\">\n",
       "      <th></th>\n",
       "      <th>EndDate</th>\n",
       "      <th>Time</th>\n",
       "      <th>Volume</th>\n",
       "    </tr>\n",
       "  </thead>\n",
       "  <tbody>\n",
       "    <tr>\n",
       "      <th>0</th>\n",
       "      <td>2021-12-14</td>\n",
       "      <td>23:00:00</td>\n",
       "      <td>1361</td>\n",
       "    </tr>\n",
       "    <tr>\n",
       "      <th>1</th>\n",
       "      <td>2021-12-14</td>\n",
       "      <td>22:00:00</td>\n",
       "      <td>1910</td>\n",
       "    </tr>\n",
       "    <tr>\n",
       "      <th>2</th>\n",
       "      <td>2021-12-14</td>\n",
       "      <td>21:00:00</td>\n",
       "      <td>1958</td>\n",
       "    </tr>\n",
       "    <tr>\n",
       "      <th>3</th>\n",
       "      <td>2021-12-13</td>\n",
       "      <td>23:00:00</td>\n",
       "      <td>1178</td>\n",
       "    </tr>\n",
       "    <tr>\n",
       "      <th>4</th>\n",
       "      <td>2021-12-13</td>\n",
       "      <td>22:00:00</td>\n",
       "      <td>1380</td>\n",
       "    </tr>\n",
       "    <tr>\n",
       "      <th>5</th>\n",
       "      <td>2021-12-13</td>\n",
       "      <td>21:00:00</td>\n",
       "      <td>1258</td>\n",
       "    </tr>\n",
       "    <tr>\n",
       "      <th>6</th>\n",
       "      <td>2021-12-12</td>\n",
       "      <td>23:00:00</td>\n",
       "      <td>1078</td>\n",
       "    </tr>\n",
       "    <tr>\n",
       "      <th>7</th>\n",
       "      <td>2021-12-12</td>\n",
       "      <td>22:00:00</td>\n",
       "      <td>1253</td>\n",
       "    </tr>\n",
       "    <tr>\n",
       "      <th>8</th>\n",
       "      <td>2021-12-12</td>\n",
       "      <td>21:00:00</td>\n",
       "      <td>1159</td>\n",
       "    </tr>\n",
       "    <tr>\n",
       "      <th>9</th>\n",
       "      <td>2021-12-11</td>\n",
       "      <td>23:00:00</td>\n",
       "      <td>683</td>\n",
       "    </tr>\n",
       "    <tr>\n",
       "      <th>10</th>\n",
       "      <td>2021-12-11</td>\n",
       "      <td>22:00:00</td>\n",
       "      <td>763</td>\n",
       "    </tr>\n",
       "    <tr>\n",
       "      <th>11</th>\n",
       "      <td>2021-12-11</td>\n",
       "      <td>21:00:00</td>\n",
       "      <td>813</td>\n",
       "    </tr>\n",
       "    <tr>\n",
       "      <th>12</th>\n",
       "      <td>2021-12-10</td>\n",
       "      <td>23:00:00</td>\n",
       "      <td>873</td>\n",
       "    </tr>\n",
       "    <tr>\n",
       "      <th>13</th>\n",
       "      <td>2021-12-10</td>\n",
       "      <td>22:00:00</td>\n",
       "      <td>914</td>\n",
       "    </tr>\n",
       "    <tr>\n",
       "      <th>14</th>\n",
       "      <td>2021-12-10</td>\n",
       "      <td>21:00:00</td>\n",
       "      <td>982</td>\n",
       "    </tr>\n",
       "    <tr>\n",
       "      <th>15</th>\n",
       "      <td>2021-12-09</td>\n",
       "      <td>23:00:00</td>\n",
       "      <td>772</td>\n",
       "    </tr>\n",
       "    <tr>\n",
       "      <th>16</th>\n",
       "      <td>2021-12-09</td>\n",
       "      <td>22:00:00</td>\n",
       "      <td>841</td>\n",
       "    </tr>\n",
       "    <tr>\n",
       "      <th>17</th>\n",
       "      <td>2021-12-09</td>\n",
       "      <td>21:00:00</td>\n",
       "      <td>855</td>\n",
       "    </tr>\n",
       "    <tr>\n",
       "      <th>18</th>\n",
       "      <td>2021-12-08</td>\n",
       "      <td>23:00:00</td>\n",
       "      <td>932</td>\n",
       "    </tr>\n",
       "    <tr>\n",
       "      <th>19</th>\n",
       "      <td>2021-12-08</td>\n",
       "      <td>22:00:00</td>\n",
       "      <td>922</td>\n",
       "    </tr>\n",
       "    <tr>\n",
       "      <th>20</th>\n",
       "      <td>2021-12-08</td>\n",
       "      <td>21:00:00</td>\n",
       "      <td>1144</td>\n",
       "    </tr>\n",
       "    <tr>\n",
       "      <th>21</th>\n",
       "      <td>2021-12-07</td>\n",
       "      <td>23:00:00</td>\n",
       "      <td>930</td>\n",
       "    </tr>\n",
       "    <tr>\n",
       "      <th>22</th>\n",
       "      <td>2021-12-07</td>\n",
       "      <td>22:00:00</td>\n",
       "      <td>810</td>\n",
       "    </tr>\n",
       "    <tr>\n",
       "      <th>23</th>\n",
       "      <td>2021-12-07</td>\n",
       "      <td>21:00:00</td>\n",
       "      <td>1077</td>\n",
       "    </tr>\n",
       "    <tr>\n",
       "      <th>24</th>\n",
       "      <td>2021-12-06</td>\n",
       "      <td>23:00:00</td>\n",
       "      <td>1750</td>\n",
       "    </tr>\n",
       "  </tbody>\n",
       "</table>\n",
       "</div>"
      ],
      "text/plain": [
       "       EndDate      Time  Volume\n",
       "0   2021-12-14  23:00:00    1361\n",
       "1   2021-12-14  22:00:00    1910\n",
       "2   2021-12-14  21:00:00    1958\n",
       "3   2021-12-13  23:00:00    1178\n",
       "4   2021-12-13  22:00:00    1380\n",
       "5   2021-12-13  21:00:00    1258\n",
       "6   2021-12-12  23:00:00    1078\n",
       "7   2021-12-12  22:00:00    1253\n",
       "8   2021-12-12  21:00:00    1159\n",
       "9   2021-12-11  23:00:00     683\n",
       "10  2021-12-11  22:00:00     763\n",
       "11  2021-12-11  21:00:00     813\n",
       "12  2021-12-10  23:00:00     873\n",
       "13  2021-12-10  22:00:00     914\n",
       "14  2021-12-10  21:00:00     982\n",
       "15  2021-12-09  23:00:00     772\n",
       "16  2021-12-09  22:00:00     841\n",
       "17  2021-12-09  21:00:00     855\n",
       "18  2021-12-08  23:00:00     932\n",
       "19  2021-12-08  22:00:00     922\n",
       "20  2021-12-08  21:00:00    1144\n",
       "21  2021-12-07  23:00:00     930\n",
       "22  2021-12-07  22:00:00     810\n",
       "23  2021-12-07  21:00:00    1077\n",
       "24  2021-12-06  23:00:00    1750"
      ]
     },
     "execution_count": 35,
     "metadata": {},
     "output_type": "execute_result"
    }
   ],
   "source": [
    "import pandas as pd\n",
    "import os\n",
    "\n",
    "filepath = \"./tweetsvolume.csv\"\n",
    "\n",
    "volume_df = pd.read_csv(filepath) #reading our csv file\n",
    "volume_df"
   ]
  },
  {
   "cell_type": "markdown",
   "metadata": {},
   "source": [
    "### 3.4 Getting Intraday Dogecoin Data from API\n",
    "\n",
    "**What it does:** It takes intraday data for a 60 minute time interval.\n",
    "\n",
    "**How it does & Problem Solving:** We create a correct url by accurately entering the following items: <br>\n",
    "CRYPTO_INTRADAY: Refers to the fact that we need prices for a particular crypto in a given day <br>\n",
    "symbol: Refers to 'DOGE' which is the symbol for our crypto <br>\n",
    "60min: Refers to the way we get the prices in 60 minute intervals <br>\n",
    "APIkey: Refers to our API key which we got earlier <br>\n",
    "outputsize = full: Refers to the fact that we need the entire data in one go instead of getting it in intervals of 200"
   ]
  },
  {
   "cell_type": "code",
   "execution_count": 36,
   "metadata": {},
   "outputs": [],
   "source": [
    "symbol = \"DOGE\" #crypto symbol\n",
    "APIkey = '8KUJ36BZP06HRKQR' \n",
    "url = 'https://www.alphavantage.co/query?function=CRYPTO_INTRADAY&symbol=' + symbol + '&market=USD&interval=60min&apikey=' + APIkey + '&outputsize=full&datatype=json'\n",
    "r = requests.get(url) #calling data\n",
    "intradayData = r.json() #extracting data"
   ]
  },
  {
   "cell_type": "markdown",
   "metadata": {},
   "source": [
    "### 3.5 Adding PriceDifference to volume_df\n",
    "\n",
    "**What it does:** The function calculates the price difference for each hour in each day and creates a list that stores all of this information.\n",
    "\n",
    "**How it does & Problem Solving:** We start with going through each of our days in our volume_df list. For each day, we extract the date and hour using string functions and append it to the volume_df dataframe. We then, for each day, go through each timestamp of the intradayData dictionary (keys of the dictionary) that we calculated in the previous cell. For each timestamp, we derive the closing and opening price and calcualate the price difference by comparing them. We finally append the price difference to a list which after recursion through the entire nested loop gets added to the volume_df dataframe."
   ]
  },
  {
   "cell_type": "code",
   "execution_count": 38,
   "metadata": {},
   "outputs": [
    {
     "name": "stdout",
     "output_type": "stream",
     "text": [
      "       EndDate      Time  Volume  priceDifference\n",
      "0   2021-12-14  23:00:00    1361           0.0041\n",
      "1   2021-12-14  22:00:00    1910          -0.0001\n",
      "2   2021-12-14  21:00:00    1958           0.0024\n",
      "3   2021-12-13  23:00:00    1178          -0.0014\n",
      "4   2021-12-13  22:00:00    1380           0.0020\n",
      "5   2021-12-13  21:00:00    1258           0.0013\n",
      "6   2021-12-12  23:00:00    1078          -0.0013\n",
      "7   2021-12-12  22:00:00    1253           0.0006\n",
      "8   2021-12-12  21:00:00    1159          -0.0011\n",
      "9   2021-12-11  23:00:00     683           0.0013\n",
      "10  2021-12-11  22:00:00     763           0.0004\n",
      "11  2021-12-11  21:00:00     813           0.0004\n",
      "12  2021-12-10  23:00:00     873          -0.0019\n",
      "13  2021-12-10  22:00:00     914          -0.0012\n",
      "14  2021-12-10  21:00:00     982          -0.0013\n",
      "15  2021-12-09  23:00:00     772          -0.0025\n",
      "16  2021-12-09  22:00:00     841          -0.0004\n",
      "17  2021-12-09  21:00:00     855           0.0005\n",
      "18  2021-12-08  23:00:00     932           0.0008\n",
      "19  2021-12-08  22:00:00     922          -0.0010\n",
      "20  2021-12-08  21:00:00    1144          -0.0005\n",
      "21  2021-12-07  23:00:00     930           0.0008\n",
      "22  2021-12-07  22:00:00     810          -0.0028\n",
      "23  2021-12-07  21:00:00    1077           0.0004\n",
      "24  2021-12-06  23:00:00    1750          -0.0009\n"
     ]
    }
   ],
   "source": [
    "keys = list(intradayData[\"Time Series Crypto (60min)\"].keys()) #Getting the keys of the dictonary\n",
    "\n",
    "priceDifference = []\n",
    "for i in range(len(volume_df)):\n",
    "    date = volume_df.iloc[i]['EndDate'] #Getting the date\n",
    "    hour = volume_df.iloc[i]['Time'][0:2] #from the volume data, our slice 0:2 is the hour\n",
    "    for timestamp in intradayData[\"Time Series Crypto (60min)\"].keys(): \n",
    "        if(timestamp[0:10] == date and timestamp[11:13] == hour): #getting common data from API and volume_df\n",
    "            closePrice  = float(intradayData[\"Time Series Crypto (60min)\"][timestamp]['4. close']) #close price\n",
    "            openPrice = float(intradayData[\"Time Series Crypto (60min)\"][timestamp]['1. open']) #open price\n",
    "            priceDiff = closePrice - openPrice \n",
    "            priceDifference.append(priceDiff) #appending price difference\n",
    "\n",
    "volume_df['priceDifference'] = priceDifference #appending price difference to main dataset\n",
    "\n",
    "print(volume_df)"
   ]
  },
  {
   "cell_type": "markdown",
   "metadata": {},
   "source": [
    "### 3.6 Checking if Volume and PriceDifference is realted or not\n",
    "\n",
    "**What it does:** Returns the correlation constant using covariance and standard deviation.\n",
    "\n",
    "**How it does & Problem Solving:** \n"
   ]
  },
  {
   "cell_type": "markdown",
   "metadata": {},
   "source": [
    "<img src=\"./cor.png\" width=400 height=400 />"
   ]
  },
  {
   "cell_type": "code",
   "execution_count": 147,
   "metadata": {
    "tags": []
   },
   "outputs": [
    {
     "name": "stdout",
     "output_type": "stream",
     "text": [
      "0.3696013286512475\n"
     ]
    }
   ],
   "source": [
    "#finding covariance of volume and priceDifference\n",
    "def covariancePV(volume, priceDifference):\n",
    "    cov = 0\n",
    "    averageVolume = sum(volume)/len(volume) #average volume\n",
    "    averagePriceDiff = sum(priceDifference)/len(priceDifference)\n",
    "    \n",
    "    #using covariance formula\n",
    "    for i in range(0, len(volume)):\n",
    "        cov = cov + (volume[i] - averageVolume) * (priceDifference[i] - averagePriceDiff)\n",
    "    return (cov / (len(volume)-1))\n",
    "\n",
    "\n",
    "covariance = covariancePV(volume_df['Volume'], volume_df['priceDifference'])\n",
    "\n",
    "#Getting the standard deviation from numpy library\n",
    "volume_std = np.std(volume_df['Volume'])\n",
    "priceDiff_std = np.std(volume_df['priceDifference'])\n",
    "\n",
    "#converting to numpy arrays\n",
    "volumenp = np.array(volume_df['Volume'])\n",
    "priceDiffnp = np.array(volume_df['priceDifference'])\n",
    "\n",
    "#finding the statistical covariance\n",
    "correlation = covariance/(priceDiff_std*volume_std)\n",
    "print(correlation)"
   ]
  },
  {
   "cell_type": "markdown",
   "metadata": {},
   "source": [
    "### 3.7 Result\n",
    "\n",
    "In general mathematical terms, the correlation constant is any value between [-1,1]. -1 represents that the two variables are inversely correlated while 1 implies that the two variables are completly correlated in the same direction. 0 indicates that there is no correlation at all between the two variables. Since our correaltion after calculation comes out to be around 0.37, we can say that there is a very low overall correlation between the volume of tweets and price difference for each hour. "
   ]
  },
  {
   "cell_type": "code",
   "execution_count": 148,
   "metadata": {},
   "outputs": [
    {
     "data": {
      "image/png": "[encoded data removed]",
      "text/plain": [
       "<Figure size 432x288 with 1 Axes>"
      ]
     },
     "metadata": {},
     "output_type": "display_data"
    }
   ],
   "source": [
    "plt.scatter(volumenp, priceDiffnp)\n",
    "plt.show()"
   ]
  },
  {
   "cell_type": "markdown",
   "metadata": {},
   "source": [
    "### Conclusion part 3\n",
    "\n",
    "As we can see in the scatterplot above, our price difference for different volumes is completely random and there is no continuity and thus reassures our claim that the price and volume of tweets have nothing to do with each other. Therefore, the next time you see people tweeting a lot about Dogecoin, don't get too excited and trade in your Dogecoins; it is just a phase and will pass sooner than you realize."
   ]
  },
  {
   "cell_type": "markdown",
   "metadata": {},
   "source": [
    "# Final Conclusion"
   ]
  },
  {
   "cell_type": "markdown",
   "metadata": {},
   "source": [
    "After comparing and checking Dogecoin prices against several variables and measures, the overall major results are as following: <br>\n",
    "1. While the overall sentiment of Dogecoin on twitter might not affect the prices of Dogecoin all the time, trading on the basis of the overall sentimentality when your calculations match the senimentality will give you a pretty high rate of making a profit out of the deal. \n",
    "<br>\n",
    "<br>\n",
    "2. A lot of people may consider crpto experts to be geniuses and master influencers of the crypto price market, in reality, listening to their feeling about Dogecoin and trading accordingly has as many chances of being right as rolling a dice and trading if the number is even or odd. In short, it can go either way and oftentimes, listening to the overall sentiment of twitter rather than just the experts' tweets gives you a better chancee of making a profit (a ratio of 6:5). \n",
    "<br>\n",
    "<br>\n",
    "3. Just because the number of tweets regarding Dogecoin you see on Twitter are a lot or very rare, does not imply anything about the price of Dogecoin as both the variables are highly unlikely to be correlated. \n",
    "<br>\n",
    "<br>\n",
    "Thus, our overall conclusion is that although rumors has it that Twitter is a major platform that influences Dogecoin prices. After our anaylsis, we can assure you that the influence of Twitter is much less than you or we expected it to be. Change of prices in Dogecoin occurs for several other reasons and doing a proper thorough research along with applying genuine algorithms is the only key to making profits in this industry. \n",
    "\n",
    "**Note: While these are the findings of our project, we have made a lot of assumptions, ignored many external factors and analysed a very small part of the existing data. We would therefore NOT recommend you or anyone else to trade just on the basis of the above conclusions and analyzations. Although, we DO assure that all the data we have analyzed has been done through completely logical mathematical steps and so the information provided can be actually used as a side method for trading.**"
   ]
  }
 ],
 "metadata": {
  "kernelspec": {
   "display_name": "Python 3",
   "language": "python",
   "name": "python3"
  },
  "language_info": {
   "codemirror_mode": {
    "name": "ipython",
    "version": 3
   },
   "file_extension": ".py",
   "mimetype": "text/x-python",
   "name": "python",
   "nbconvert_exporter": "python",
   "pygments_lexer": "ipython3",
   "version": "3.8.8"
  }
 },
 "nbformat": 4,
 "nbformat_minor": 4
}
